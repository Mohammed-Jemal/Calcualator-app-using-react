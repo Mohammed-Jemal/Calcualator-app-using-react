{
  "nbformat": 4,
  "nbformat_minor": 0,
  "metadata": {
    "colab": {
      "provenance": [],
      "authorship_tag": "ABX9TyP95MMnCJpVwqYrqxUeVvqh",
      "include_colab_link": true
    },
    "kernelspec": {
      "name": "python3",
      "display_name": "Python 3"
    },
    "language_info": {
      "name": "python"
    }
  },
  "cells": [
    {
      "cell_type": "markdown",
      "metadata": {
        "id": "view-in-github",
        "colab_type": "text"
      },
      "source": [
        "<a href=\"https://colab.research.google.com/github/Mohammed-Jemal/Calcualator-app-using-react/blob/main/Homework_week1.ipynb\" target=\"_parent\"><img src=\"https://colab.research.google.com/assets/colab-badge.svg\" alt=\"Open In Colab\"/></a>"
      ]
    },
    {
      "cell_type": "markdown",
      "source": [
        "1. Provide a working definition for data science. How is data science different from just statistics,\n",
        "or just computer science?\n",
        "\n",
        " =>Data science is an interdisciplinary field that involves using various techniques, algorithms, processes, and systems to extract valuable insights and knowledge from structured and unstructured data. It encompasses a wide range of activities, including data collection, data cleaning and preprocessing, exploratory data analysis, statistical modeling, machine learning,and data visualization.\n",
        "\n",
        " -> From just statistics:While statistics is a fundamental component of data science, data science goes beyond statistics in several ways.\n",
        "\n",
        " -> From computer science:data science is more focused on extracting insights and knowledge from data, while computer science primarily deals with the development of software and systems.\n",
        "\n",
        "\n"
      ],
      "metadata": {
        "id": "iq2tUx0cq79B"
      }
    },
    {
      "cell_type": "markdown",
      "source": [
        "2 a. What is the late assignment policy?\n",
        "\n",
        "   => The late policy says \"Late Puzzles and HW are accepted with a 10% reduction in score per day late. Late Projects are not\n",
        "accepted without a justified reason.\"\n",
        "\n",
        "b.  If there is 2 weeks left in the semester and a student is missing a bunch of assignments, are they\n",
        "able to complete extra credit assignments to make up for their missing work?\n",
        "\n",
        "   =>  Extra credit is provided if the student finds errors on Assignments, notes,homework, or project,and also if we participate in maths departement. so based on this condition if, the student missed a bunch of assignments he/she will not have a chance to see those errors. So I can say the student can not make up the missing work.\n"
      ],
      "metadata": {
        "id": "JljJHn7i4b6q"
      }
    },
    {
      "cell_type": "markdown",
      "source": [
        "3. Demonstrate how to use Python to determine the data types of the following objects"
      ],
      "metadata": {
        "id": "SJJT8tfYm2XR"
      }
    },
    {
      "cell_type": "code",
      "source": [
        "import numpy as np\n",
        "import pandas as pd\n",
        "\n",
        "print(type(251))\n",
        "print(np.pi)\n",
        "print(type(2+2==4))\n",
        "print(type('James'))\n",
        "print(type(pd))\n",
        "print(type(abs))"
      ],
      "metadata": {
        "colab": {
          "base_uri": "https://localhost:8080/",
          "height": 0
        },
        "id": "VhhkujF98Mc2",
        "outputId": "f89cfd97-8f79-43cd-c8d3-898e83e71817"
      },
      "execution_count": 8,
      "outputs": [
        {
          "output_type": "stream",
          "name": "stdout",
          "text": [
            "<class 'int'>\n",
            "3.141592653589793\n",
            "<class 'bool'>\n",
            "<class 'str'>\n",
            "<class 'module'>\n",
            "<class 'builtin_function_or_method'>\n"
          ]
        }
      ]
    },
    {
      "cell_type": "markdown",
      "source": [
        "4. What do you see after compiling the following statement:\n",
        "1 type ( abcba )\n",
        "Explain in plain terms what the computer’s output is saying?"
      ],
      "metadata": {
        "id": "lTs5R0IIwyfC"
      }
    },
    {
      "cell_type": "code",
      "source": [
        "type(abcba)\n",
        "\n",
        "#The compiler traceback NameError. It says \"the name 'abcba' is not defined\". So this means I have to fix the problem in order to execute the code correctly."
      ],
      "metadata": {
        "colab": {
          "base_uri": "https://localhost:8080/",
          "height": 210
        },
        "id": "YIft8ezg-NsP",
        "outputId": "f4fc723a-608c-4b75-883c-42f20f7e4117"
      },
      "execution_count": 9,
      "outputs": [
        {
          "output_type": "error",
          "ename": "NameError",
          "evalue": "ignored",
          "traceback": [
            "\u001b[0;31m---------------------------------------------------------------------------\u001b[0m",
            "\u001b[0;31mNameError\u001b[0m                                 Traceback (most recent call last)",
            "\u001b[0;32m<ipython-input-9-b5df08e09d23>\u001b[0m in \u001b[0;36m<cell line: 1>\u001b[0;34m()\u001b[0m\n\u001b[0;32m----> 1\u001b[0;31m \u001b[0mtype\u001b[0m\u001b[0;34m(\u001b[0m\u001b[0mabcba\u001b[0m\u001b[0;34m)\u001b[0m\u001b[0;34m\u001b[0m\u001b[0;34m\u001b[0m\u001b[0m\n\u001b[0m\u001b[1;32m      2\u001b[0m \u001b[0;34m\u001b[0m\u001b[0m\n\u001b[1;32m      3\u001b[0m \u001b[0;31m#The compiler traceback NameError. It says \"the name 'abcba' is not defined\". So this means I have to fix the problem in order to execute the code correctly.\u001b[0m\u001b[0;34m\u001b[0m\u001b[0;34m\u001b[0m\u001b[0m\n",
            "\u001b[0;31mNameError\u001b[0m: name 'abcba' is not defined"
          ]
        }
      ]
    },
    {
      "cell_type": "markdown",
      "source": [
        "5. Create a small program that assigns a variable name to 80 pounds (use a descriptive name for\n",
        "your variable), then converts that to both kilograms and to ounces, then prints a complete sentence stating\n",
        "the conversion. Be sure to comment your code well"
      ],
      "metadata": {
        "id": "Pg0xPAxOvI_z"
      }
    },
    {
      "cell_type": "code",
      "source": [
        "pounds = 80  # defining the variable\n",
        "pounds_to_kilograms = 0.45359237  # 1 pound is equal to 0.45359237 kg\n",
        "pounds_to_ounces = 16  # 1 pound is equal to 16 ounces\n",
        "\n",
        "Killogram = pounds * pounds_to_kilograms\n",
        "ounces = pounds * pounds_to_ounces\n",
        "print( f\"{pounds} pounds is equal to {Killogram:.2f} killograms and {ounces} ounces\")\n",
        "\n"
      ],
      "metadata": {
        "colab": {
          "base_uri": "https://localhost:8080/",
          "height": 0
        },
        "id": "NohT3IuFACy2",
        "outputId": "22c99fc6-f702-44a2-87e7-ff01baab0877"
      },
      "execution_count": 10,
      "outputs": [
        {
          "output_type": "stream",
          "name": "stdout",
          "text": [
            "80 pounds is equal to 36.29 killograms and 1280 ounces\n"
          ]
        }
      ]
    },
    {
      "cell_type": "markdown",
      "source": [
        "6. Show that the pythagorean identity (that is, sin(θ)^2 + cos(θ)^2 = 1 for any angle θ) holds for θ = π, 3π/2, and 21. You may use the NumPy library"
      ],
      "metadata": {
        "id": "ZO-7NQYQyPwX"
      }
    },
    {
      "cell_type": "code",
      "source": [
        "import numpy as np  # importing Numpy module\n",
        "\n",
        "# Defining the angels in radian\n",
        "angels =[np.pi, 3*np.pi/2, 21]\n",
        "\n",
        "for angel in angels:\n",
        "  # calculating the values of sine and cosine\n",
        "  sine_value = np.sin(angel)\n",
        "  cosine_value = np.cos(angel)\n",
        "  #to make the code more understandable, calculating the left and right side pythagorian identity separately. lhs is for left hand side and rhs is for right hand side\n",
        "  lhs = sine_value**2 + cosine_value**2\n",
        "  rhs = 1\n",
        "  # verify if the identity holds for the curent angle\n",
        "  if(lhs == rhs):\n",
        "    value = 'holds'\n",
        "  else:\n",
        "    value ='Not holds'\n",
        "  print(f'For θ = {angel:.2f}: sin(θ)^2 + cos(θ)^2 = {lhs:.2f}, which {value} the pythagorian identity.')\n"
      ],
      "metadata": {
        "colab": {
          "base_uri": "https://localhost:8080/",
          "height": 0
        },
        "id": "5VktmsMM8DZI",
        "outputId": "4e30f21e-8c79-4511-aaee-86187ad2aaf4"
      },
      "execution_count": 7,
      "outputs": [
        {
          "output_type": "stream",
          "name": "stdout",
          "text": [
            "For θ = 3.14: sin(θ)^2 + cos(θ)^2 = 1.00, which holds the pythagorian identity.\n",
            "For θ = 4.71: sin(θ)^2 + cos(θ)^2 = 1.00, which holds the pythagorian identity.\n",
            "For θ = 21.00: sin(θ)^2 + cos(θ)^2 = 1.00, which holds the pythagorian identity.\n"
          ]
        }
      ]
    }
  ]
}